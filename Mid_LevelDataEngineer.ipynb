{
  "nbformat": 4,
  "nbformat_minor": 0,
  "metadata": {
    "colab": {
      "provenance": [],
      "authorship_tag": "ABX9TyMyGn3G90se23sKhU5LUXwM",
      "include_colab_link": true
    },
    "kernelspec": {
      "name": "python3",
      "display_name": "Python 3"
    },
    "language_info": {
      "name": "python"
    }
  },
  "cells": [
    {
      "cell_type": "markdown",
      "metadata": {
        "id": "view-in-github",
        "colab_type": "text"
      },
      "source": [
        "<a href=\"https://colab.research.google.com/github/AndresMontesDeOca/Zubale/blob/main/Mid_LevelDataEngineer.ipynb\" target=\"_parent\"><img src=\"https://colab.research.google.com/assets/colab-badge.svg\" alt=\"Open In Colab\"/></a>"
      ]
    },
    {
      "cell_type": "markdown",
      "source": [
        "# 1 Challenge 1: CSV File Manipulation"
      ],
      "metadata": {
        "id": "3eaZOcuiV5uz"
      }
    },
    {
      "cell_type": "code",
      "source": [
        "# prompt: pandas read orders.csv, created_date as date, id as index\n",
        "# sin el try\n",
        "\n",
        "import pandas as pd\n",
        "\n",
        "# Assuming 'orders.csv' is in the current working directory\n",
        "data_orders = pd.read_csv('orders.csv', index_col='id', parse_dates=['created_date'])"
      ],
      "metadata": {
        "id": "3s186-jhV_WD"
      },
      "execution_count": 10,
      "outputs": []
    },
    {
      "cell_type": "code",
      "source": [
        "data_orders.info()"
      ],
      "metadata": {
        "id": "HE0FcO8RWTgz",
        "outputId": "fa1112cf-7e01-4977-c146-07c200d18e88",
        "colab": {
          "base_uri": "https://localhost:8080/"
        }
      },
      "execution_count": 8,
      "outputs": [
        {
          "output_type": "stream",
          "name": "stdout",
          "text": [
            "<class 'pandas.core.frame.DataFrame'>\n",
            "RangeIndex: 50 entries, 0 to 49\n",
            "Data columns (total 4 columns):\n",
            " #   Column        Non-Null Count  Dtype         \n",
            "---  ------        --------------  -----         \n",
            " 0   id            50 non-null     int64         \n",
            " 1   product_id    50 non-null     int64         \n",
            " 2   quantity      50 non-null     int64         \n",
            " 3   created_date  50 non-null     datetime64[ns]\n",
            "dtypes: datetime64[ns](1), int64(3)\n",
            "memory usage: 1.7 KB\n"
          ]
        }
      ]
    },
    {
      "cell_type": "code",
      "source": [],
      "metadata": {
        "id": "hWgm7cw-Weqv"
      },
      "execution_count": null,
      "outputs": []
    }
  ]
}